{
 "cells": [
  {
   "cell_type": "code",
   "execution_count": 1,
   "metadata": {},
   "outputs": [],
   "source": [
    "import trompy as tp\n",
    "import numpy as np\n",
    "import matplotlib.pyplot as plt\n",
    "import pandas as pd\n",
    "\n",
    "%matplotlib inline"
   ]
  },
  {
   "cell_type": "markdown",
   "metadata": {},
   "source": [
    "## BW and Food Intake"
   ]
  },
  {
   "cell_type": "code",
   "execution_count": 2,
   "metadata": {},
   "outputs": [],
   "source": [
    "excel_file = pd.ExcelFile(\"..\\\\ARP3 and ARP5 conditioning and preference metafile.xls\")\n",
    "df1 = pd.read_excel(excel_file, \"food_intake\")\n",
    "df2 = pd.read_excel(excel_file, \"BW\")\n",
    "df3 = pd.read_excel(excel_file, \"female_cycle\")\n",
    "df4 = pd.read_excel(excel_file, \"FGF21\")\n"
   ]
  },
  {
   "cell_type": "code",
   "execution_count": 3,
   "metadata": {},
   "outputs": [],
   "source": [
    "colors_NR1 = \"#EAEAEA\"\n",
    "colors_NR2 = \"#B0B0B1\"\n",
    "colors_NR3 = \"#6D6D6D\"\n",
    "\n",
    "colors_PR1 = \"#CCF3F4\"\n",
    "colors_PR2 = \"#00C7CC\"\n",
    "colors_PR3 = \"#0097A3\"\n",
    "\n",
    "colors_lines = \"#6e6e6e\"\n",
    "\n",
    "scattersize = 40"
   ]
  },
  {
   "cell_type": "code",
   "execution_count": 4,
   "metadata": {},
   "outputs": [],
   "source": [
    "#BW\n",
    "\n",
    "df2_NR = df2[df2['Diet'] == \"NR\"]\n",
    "df2_PR = df2[df2['Diet'] == \"PR\"]\n",
    "\n",
    "df2_NR_M = df2_NR[df2_NR ['Sex'] == \"male\"]\n",
    "df2_NR_F = df2_NR[df2_NR ['Sex'] == \"female\"]\n",
    "\n",
    "df2_PR_M = df2_PR[df2_PR ['Sex'] == \"male\"]\n",
    "df2_PR_F = df2_PR[df2_PR ['Sex'] == \"female\"]\n",
    "\n",
    "#BW at start of diet\n",
    "\n",
    "PR_F_BW_start = df2_PR_F['BW at diet start'].to_list()\n",
    "PR_M_BW_start = df2_PR_M['BW at diet start'].to_list()\n",
    "NR_F_BW_start = df2_NR_F['BW at diet start'].to_list()\n",
    "NR_M_BW_start = df2_NR_M['BW at diet start'].to_list()\n",
    "\n",
    "#BW on preference test day\n",
    "\n",
    "PR_F_BW_PrefTest = df2_PR_F['BW at Pref Test'].to_list()\n",
    "PR_M_BW_PrefTest = df2_PR_M['BW at Pref Test'].to_list()\n",
    "NR_F_BW_PrefTest = df2_NR_F['BW at Pref Test'].to_list()\n",
    "NR_M_BW_PrefTest = df2_NR_M['BW at Pref Test'].to_list()\n",
    "\n",
    "#BW change from start to pref test day\n",
    "\n",
    "PR_F_BW_change = df2_PR_F['percent change from diet start'].to_list()\n",
    "PR_M_BW_change = df2_PR_M['percent change from diet start'].to_list()\n",
    "NR_F_BW_change = df2_NR_F['percent change from diet start'].to_list()\n",
    "NR_M_BW_change = df2_NR_M['percent change from diet start'].to_list()"
   ]
  },
  {
   "cell_type": "code",
   "execution_count": 5,
   "metadata": {
    "scrolled": true
   },
   "outputs": [
    {
     "data": {
      "image/png": "[encoded data removed]",
      "text/plain": [
       "<Figure size 244.8x165.6 with 2 Axes>"
      ]
     },
     "metadata": {
      "needs_background": "light"
     },
     "output_type": "display_data"
    }
   ],
   "source": [
    "#Plot for BW\n",
    "\n",
    "f,ax=plt.subplots(figsize=(3.4,2.3), ncols=2, sharey=True, gridspec_kw={\"left\": 0.3})\n",
    "\n",
    "tp.barscatter([[NR_F_BW_start, NR_F_BW_PrefTest], [PR_F_BW_start, PR_F_BW_PrefTest]], \n",
    "              paired = True,\n",
    "              grouplabel= [\"NR\", \"PR\"],\n",
    "              xfontsize = 12,\n",
    "              barfacecolor=[colors_NR1, colors_NR2, colors_PR1, colors_PR2], \n",
    "              barfacecoloroption=\"individual\",\n",
    "              scattersize=scattersize,\n",
    "              scatteralpha=0.6,\n",
    "              scatterlinecolor= colors_lines,\n",
    "              linewidth=0.75,\n",
    "              ax=ax[0])\n",
    "\n",
    "tp.barscatter([[NR_M_BW_start, NR_M_BW_PrefTest], [PR_M_BW_start, PR_M_BW_PrefTest]],\n",
    "              paired = True,\n",
    "              grouplabel= [\"NR\", \"PR\"],\n",
    "              xfontsize = 12,\n",
    "              barfacecolor=[colors_NR1, colors_NR2, colors_PR1, colors_PR2],\n",
    "              barfacecoloroption=\"individual\",\n",
    "              scattersize=scattersize,\n",
    "              scatteralpha=0.6,\n",
    "              scatterlinecolor= colors_lines,\n",
    "              linewidth=0.75,\n",
    "              ax=ax[1])\n",
    "\n",
    "\n",
    "ax[0].set_ylabel(\"body weight (g)\", fontsize = 12)\n",
    "ax[0].set_ylim([0, 30])\n",
    "ax[0].tick_params(axis='y', labelsize=12)\n",
    "\n",
    "#ax[0].set_title(\"Female Mice\")\n",
    "#ax[1].set_title(\"Male Mice\")\n",
    "\n",
    "#f.suptitle(\"BW\", fontsize = 20)\n",
    "f.savefig(\"..//output//BW1.pdf\")"
   ]
  },
  {
   "cell_type": "code",
   "execution_count": 6,
   "metadata": {},
   "outputs": [
    {
     "data": {
      "image/png": "[encoded data removed]",
      "text/plain": [
       "<Figure size 165.6x165.6 with 2 Axes>"
      ]
     },
     "metadata": {
      "needs_background": "light"
     },
     "output_type": "display_data"
    }
   ],
   "source": [
    "#Plot for BW percent change\n",
    "\n",
    "f,ax=plt.subplots(figsize=(2.3,2.3), ncols=2, sharey=True, gridspec_kw={\"left\": 0.35})\n",
    "\n",
    "tp.barscatter([NR_F_BW_change,PR_F_BW_change], \n",
    "              grouplabel= [\"NR\", \"PR\"],\n",
    "              xfontsize = 12,\n",
    "              barfacecolor=[colors_NR2,colors_PR2],\n",
    "              barfacecoloroption=\"individual\",\n",
    "              scattersize=scattersize,\n",
    "              scatteralpha=0.6,\n",
    "              linewidth=0.75,\n",
    "              ax=ax[0])\n",
    "\n",
    "tp.barscatter([NR_M_BW_change,PR_M_BW_change], \n",
    "              grouplabel= [\"NR\", \"PR\"],\n",
    "              xfontsize = 12,\n",
    "              barfacecolor=[colors_NR2,colors_PR2],\n",
    "              barfacecoloroption=\"individual\",\n",
    "              scattersize=scattersize,\n",
    "              scatteralpha=0.6,\n",
    "              linewidth=0.75,\n",
    "              ax=ax[1])\n",
    "\n",
    "ax[0].set_ylabel(\"\\u0394 body weight (%)\", fontsize = 12)\n",
    "ax[0].tick_params(axis='y', labelsize=12)\n",
    "ax[0].set_yticks([0, 0.5, 1])\n",
    "ax[0].set_yticklabels([\"0\", \"50\", \"100\"])\n",
    "\n",
    "#ax[0].set_title(\"Female Mice\")\n",
    "#ax[1].set_title(\"Male Mice\")\n",
    "\n",
    "#f.suptitle(\"BW percent change\", fontsize = 20)\n",
    "\n",
    "f.savefig(\"..//output//BW2.pdf\")"
   ]
  },
  {
   "cell_type": "code",
   "execution_count": 7,
   "metadata": {},
   "outputs": [],
   "source": [
    "#Average food intake in the 9 days before homecage conditioning began\n",
    "df_NR = df1[df1['Diet'] == \"NR\"]\n",
    "df_PR = df1[df1['Diet'] == \"PR\"]\n",
    "\n",
    "df_NR_M = df_NR[df_NR ['Sex'] == \"male\"]\n",
    "df_NR_F = df_NR[df_NR ['Sex'] == \"female\"]\n",
    "\n",
    "df_PR_M = df_PR[df_PR ['Sex'] == \"male\"]\n",
    "df_PR_F = df_PR[df_PR ['Sex'] == \"female\"]\n",
    "\n",
    "PR_F_avg_food = df_PR_F['Average'].to_list()\n",
    "PR_M_avg_food = df_PR_M['Average'].to_list()\n",
    "NR_F_avg_food = df_NR_F['Average'].to_list()\n",
    "NR_M_avg_food = df_NR_M['Average'].to_list()"
   ]
  },
  {
   "cell_type": "code",
   "execution_count": 8,
   "metadata": {},
   "outputs": [
    {
     "data": {
      "image/png": "[encoded data removed]",
      "text/plain": [
       "<Figure size 165.6x165.6 with 2 Axes>"
      ]
     },
     "metadata": {
      "needs_background": "light"
     },
     "output_type": "display_data"
    }
   ],
   "source": [
    "#Plot for food intake\n",
    "\n",
    "f,ax=plt.subplots(figsize=(2.3,2.3), ncols=2, sharey=True, gridspec_kw={\"left\": 0.35})\n",
    "tp.barscatter([NR_F_avg_food, PR_F_avg_food], \n",
    "              grouplabel= [\"NR\", \"PR\"],\n",
    "              xfontsize = 12,\n",
    "              barfacecolor=[colors_NR2,colors_PR2],\n",
    "              barfacecoloroption=\"individual\",\n",
    "              scattersize=scattersize,\n",
    "              scatteralpha=0.6,\n",
    "              linewidth=0.75,\n",
    "              ax=ax[0])\n",
    "\n",
    "tp.barscatter([NR_M_avg_food , PR_M_avg_food], \n",
    "              grouplabel= [\"NR\", \"PR\"],\n",
    "              xfontsize = 12,\n",
    "              barfacecolor=[colors_NR2,colors_PR2],\n",
    "              barfacecoloroption=\"individual\",\n",
    "              scattersize=scattersize,\n",
    "              scatteralpha=0.6,\n",
    "              linewidth=0.75,\n",
    "              ax=ax[1])\n",
    "\n",
    "\n",
    "ax[0].set_ylabel(\"food intake (g)\", fontsize = 12)\n",
    "ax[0].tick_params(axis='y', labelsize=12)\n",
    "\n",
    "#ax[0].set_title(\"Female Mice\")\n",
    "#ax[1].set_title(\"Male Mice\")\n",
    "\n",
    "#f.suptitle(\"Avg Daily Food Intake\", fontsize = 20)\n",
    "\n",
    "f.savefig(\"..//output//foodintake.pdf\")"
   ]
  },
  {
   "cell_type": "code",
   "execution_count": 9,
   "metadata": {},
   "outputs": [],
   "source": [
    "# Female cycle\n",
    "\n",
    "df3_NR = df3[df3['Diet'] == \"NR\"]\n",
    "df3_PR = df3[df3['Diet'] == \"PR\"]\n",
    "\n",
    "# BW change \n",
    "\n",
    "NR_BW_Diestrus = df3_NR['Change_BW_Diestrus'].to_list()\n",
    "NR_BW_Estrus = df3_NR['Change_BW_Estrus'].to_list()\n",
    "NR_BW_Pro = df3_NR['Change_BW_Pro'].to_list()\n",
    "\n",
    "PR_BW_Diestrus = df3_PR['Change_BW_Diestrus'].to_list()\n",
    "PR_BW_Estrus = df3_PR['Change_BW_Estrus'].to_list()\n",
    "PR_BW_Pro = df3_PR['Change_BW_Pro'].to_list()\n",
    "\n",
    "# food intake change\n",
    "\n",
    "NR_food_Diestrus = df3_NR['Change_Food_Diestrus'].to_list()\n",
    "NR_food_Estrus = df3_NR['Change_Food_Estrus'].to_list()\n",
    "NR_food_Pro = df3_NR['Change_Food_Pro'].to_list()\n",
    "\n",
    "PR_food_Diestrus = df3_PR['Change_Food_Diestrus'].to_list()\n",
    "PR_food_Estrus = df3_PR['Change_Food_Estrus'].to_list()\n",
    "PR_food_Pro = df3_PR['Change_Food_Pro'].to_list()"
   ]
  },
  {
   "cell_type": "code",
   "execution_count": 10,
   "metadata": {},
   "outputs": [
    {
     "data": {
      "image/png": "[encoded data removed]",
      "text/plain": [
       "<Figure size 216x360 with 2 Axes>"
      ]
     },
     "metadata": {
      "needs_background": "light"
     },
     "output_type": "display_data"
    }
   ],
   "source": [
    "#Plot for Female Cycle\n",
    "\n",
    "f,ax=plt.subplots(figsize=(3,5), nrows=2, gridspec_kw={\"left\": 0.2, \"wspace\":0.3})\n",
    "tp.barscatter([[NR_BW_Diestrus, NR_BW_Pro, NR_BW_Estrus], [PR_BW_Diestrus, PR_BW_Pro, PR_BW_Estrus]], \n",
    "              paired = True,\n",
    "              #grouplabel= [\"NR\", \"PR\"],\n",
    "              xfontsize = 12,\n",
    "              barfacecolor=[colors_NR1, colors_NR2, colors_NR3, colors_PR1, colors_PR2, colors_PR3],\n",
    "              barfacecoloroption=\"individual\",\n",
    "              scattersize=scattersize,\n",
    "              linewidth=0.75,\n",
    "              scatteralpha=0.6,\n",
    "              scatterlinecolor= colors_lines,\n",
    "              ax=ax[0])\n",
    "\n",
    "tp.barscatter([[NR_food_Diestrus, NR_food_Pro, NR_food_Estrus], [PR_food_Diestrus, PR_food_Pro, PR_food_Estrus]],\n",
    "              paired = True,\n",
    "              #grouplabel= [\"NR\", \"PR\"],\n",
    "              xfontsize = 12,\n",
    "              barfacecolor=[colors_NR1, colors_NR2, colors_NR3, colors_PR1, colors_PR2, colors_PR3],\n",
    "              barfacecoloroption=\"individual\",\n",
    "              scattersize=scattersize,\n",
    "              linewidth=0.75,\n",
    "              scatteralpha=0.6,\n",
    "              scatterlinecolor= colors_lines,\n",
    "              ax=ax[1])\n",
    "\n",
    "\n",
    "ax[0].set_ylabel(\"\\u0394 body weight (g)\", fontsize = 12)\n",
    "ax[1].set_ylabel(\"\\u0394 food intake (g)\", fontsize = 12)\n",
    "ax[0].tick_params(axis='y', labelsize=12)\n",
    "ax[1].tick_params(axis='y', labelsize=12)\n",
    "\n",
    "ax[0].set_yticks([ -1, 0, 1, 2])\n",
    "ax[1].set_yticks([ -1, 0, 1, 2])\n",
    "\n",
    "ax[0].set_ylim([-1.2, 1])\n",
    "ax[1].set_ylim([-1.2, 2])\n",
    "\n",
    "#ax[0].set_title(\"Change in BW\")\n",
    "#ax[1].set_title(\"Change in Food Intake\")\n",
    "\n",
    "#f.suptitle(\"Female Cycle\", fontsize = 20)\n",
    "\n",
    "f.savefig(\"..//output//cycle.pdf\")"
   ]
  },
  {
   "cell_type": "code",
   "execution_count": 11,
   "metadata": {},
   "outputs": [
    {
     "name": "stdout",
     "output_type": "stream",
     "text": [
      "File is excel file. Making csv metafile first\n"
     ]
    }
   ],
   "source": [
    "filename = \"..\\\\ARP3 and ARP5 conditioning and preference metafile.xls\"\n",
    "datafolder=\"..\\\\data\\\\\"\n",
    "rows, header=tp.metafilereader(filename)"
   ]
  },
  {
   "cell_type": "code",
   "execution_count": 12,
   "metadata": {},
   "outputs": [],
   "source": [
    "NR = []\n",
    "PR = []\n",
    "\n",
    "for row in rows:\n",
    "        if row[3] == \"NR\":\n",
    "            if row[1] not in NR:\n",
    "                NR.append(row[1])\n",
    "        else:\n",
    "            if row[1] not in PR:\n",
    "                PR.append(row[1])\n"
   ]
  },
  {
   "cell_type": "code",
   "execution_count": 13,
   "metadata": {},
   "outputs": [],
   "source": [
    "NR_male = []\n",
    "NR_female = []\n",
    "\n",
    "PR_male = []\n",
    "PR_female = []\n",
    "\n",
    "\n",
    "for row in rows:\n",
    "        if row[3] == \"NR\" and row[4]==\"male\":\n",
    "            if row[1] not in NR_male:\n",
    "                NR_male.append(row[1])\n",
    "\n",
    "\n",
    "for row in rows:\n",
    "        if row[3] == \"PR\" and row[4]==\"male\":\n",
    "            if row[1] not in PR_male:\n",
    "                PR_male.append(row[1])\n",
    "\n",
    "for row in rows:\n",
    "        if row[3] == \"NR\" and row[4]==\"female\":\n",
    "            if row[1] not in NR_female:\n",
    "                NR_female.append(row[1])\n",
    "                \n",
    "for row in rows:\n",
    "        if row[3] == \"PR\" and row[4]==\"female\":\n",
    "            if row[1] not in PR_female:\n",
    "                PR_female.append(row[1])\n"
   ]
  },
  {
   "cell_type": "code",
   "execution_count": 14,
   "metadata": {},
   "outputs": [],
   "source": [
    "def remove_nans (list_of_mice):\n",
    "    new =[]\n",
    "    for value in list_of_mice:   \n",
    "        if np.isnan(value) == False:\n",
    "            new.append(value)\n",
    "    return new\n"
   ]
  },
  {
   "cell_type": "code",
   "execution_count": 15,
   "metadata": {},
   "outputs": [],
   "source": [
    "def get_lick_data (rows, mice, solution=\"malt\", phase=\"conditioning\"):\n",
    "    licks = [] #empty list where data from all mice will be stored\n",
    "    burst_number = []\n",
    "    burst_size = []\n",
    "    for mouse in mice:\n",
    "        temp_lick = []\n",
    "        temp_burstnum = []\n",
    "        temp_burstsize = []\n",
    "        for row in rows:\n",
    "            if (row[1] == mouse) and (row[12] == phase):\n",
    "                if row [6] == solution:\n",
    "                    [onset, offset]=tp.medfilereader(datafolder+row[0], varsToExtract=[\"b\", \"c\"],  remove_var_header=True)\n",
    "                    lickdata = tp.lickCalc(onset, offset=offset, minburstlength=3, burstThreshold=1)\n",
    "                    temp_lick.append(lickdata[\"total\"])\n",
    "                    temp_burstnum.append(lickdata[\"bNum\"],)\n",
    "                    temp_burstsize.append(lickdata[\"bMean\"])\n",
    "                elif row [7] == solution:\n",
    "                    [onset, offset]=tp.medfilereader(datafolder+row[0], varsToExtract=[\"e\", \"f\"],  remove_var_header=True)\n",
    "                    lickdata = tp.lickCalc(onset, offset=offset, minburstlength=3, burstThreshold=1)\n",
    "                    temp_lick.append(lickdata[\"total\"])\n",
    "                    temp_burstnum.append(lickdata[\"bNum\"])\n",
    "                    temp_burstsize.append(lickdata[\"bMean\"])\n",
    "        licks.append(np.mean(temp_lick))\n",
    "        burst_number.append(np.mean(temp_burstnum))\n",
    "        burst_size.append(np.mean(temp_burstsize))\n",
    "    \n",
    "#     data_to_return = {}\n",
    "#     data_to_return[\"licks\"] = licks\n",
    "#     data_to_return[\"burst number\"] = burst_number\n",
    "    data_to_return = {\"licks\":licks, \"burst number\": burst_number, \"burst size\": burst_size}\n",
    "    return data_to_return\n"
   ]
  },
  {
   "cell_type": "code",
   "execution_count": 16,
   "metadata": {},
   "outputs": [
    {
     "name": "stdout",
     "output_type": "stream",
     "text": [
      "Optimal fit parameters not found\n"
     ]
    },
    {
     "name": "stderr",
     "output_type": "stream",
     "text": [
      "C:\\Users\\kvo019\\Anaconda3\\envs\\ARP\\lib\\site-packages\\trompy\\lick_utils.py:249: RuntimeWarning: invalid value encountered in power\n",
      "  return (np.exp(-(alpha*x)**beta))\n",
      "C:\\Users\\kvo019\\Anaconda3\\envs\\ARP\\lib\\site-packages\\numpy\\core\\fromnumeric.py:3440: RuntimeWarning: Mean of empty slice.\n",
      "  return _methods._mean(a, axis=axis, dtype=dtype,\n",
      "C:\\Users\\kvo019\\Anaconda3\\envs\\ARP\\lib\\site-packages\\numpy\\core\\_methods.py:189: RuntimeWarning: invalid value encountered in double_scalars\n",
      "  ret = ret.dtype.type(ret / rcount)\n"
     ]
    },
    {
     "name": "stdout",
     "output_type": "stream",
     "text": [
      "Could not calculate burst probability\n",
      "Could not calculate burst probability\n",
      "Could not calculate burst probability\n",
      "Could not calculate burst probability\n",
      "Could not calculate burst probability\n",
      "Could not calculate burst probability\n",
      "Could not calculate burst probability\n",
      "Optimal fit parameters not found\n",
      "Could not calculate burst probability\n",
      "Could not calculate burst probability\n",
      "Could not calculate burst probability\n",
      "Could not calculate burst probability\n",
      "Could not calculate burst probability\n",
      "Could not calculate burst probability\n",
      "Could not calculate burst probability\n",
      "Optimal fit parameters not found\n",
      "Optimal fit parameters not found\n",
      "Could not calculate burst probability\n",
      "Could not calculate burst probability\n",
      "Optimal fit parameters not found\n",
      "Could not calculate burst probability\n",
      "Could not calculate burst probability\n",
      "Could not calculate burst probability\n"
     ]
    }
   ],
   "source": [
    "Cond_NR_M_Malt= get_lick_data(rows, NR_male)\n",
    "Cond_NR_F_Malt = get_lick_data(rows, NR_female)\n",
    "\n",
    "Cond_NR_M_Cas = get_lick_data(rows, NR_male, solution=\"casein\")\n",
    "Cond_NR_F_Cas = get_lick_data(rows, NR_female, solution=\"casein\")\n",
    "\n",
    "Cond_PR_M_Malt = get_lick_data(rows, PR_male)\n",
    "Cond_PR_F_Malt= get_lick_data(rows, PR_female)\n",
    "\n",
    "Cond_PR_M_Cas = get_lick_data(rows, PR_male, solution=\"casein\")\n",
    "Cond_PR_F_Cas = get_lick_data(rows, PR_female, solution=\"casein\")"
   ]
  },
  {
   "cell_type": "code",
   "execution_count": 17,
   "metadata": {},
   "outputs": [
    {
     "name": "stderr",
     "output_type": "stream",
     "text": [
      "C:\\Users\\kvo019\\Anaconda3\\envs\\ARP\\lib\\site-packages\\numpy\\core\\fromnumeric.py:3162: VisibleDeprecationWarning: Creating an ndarray from ragged nested sequences (which is a list-or-tuple of lists-or-tuples-or ndarrays with different lengths or shapes) is deprecated. If you meant to do this, you must specify 'dtype=object' when creating the ndarray.\n",
      "  return asarray(a).ndim\n",
      "C:\\Users\\kvo019\\Anaconda3\\envs\\ARP\\lib\\site-packages\\numpy\\core\\fromnumeric.py:1970: VisibleDeprecationWarning: Creating an ndarray from ragged nested sequences (which is a list-or-tuple of lists-or-tuples-or ndarrays with different lengths or shapes) is deprecated. If you meant to do this, you must specify 'dtype=object' when creating the ndarray.\n",
      "  result = asarray(a).shape\n",
      "C:\\Users\\kvo019\\Anaconda3\\envs\\ARP\\lib\\site-packages\\numpy\\core\\fromnumeric.py:3162: VisibleDeprecationWarning: Creating an ndarray from ragged nested sequences (which is a list-or-tuple of lists-or-tuples-or ndarrays with different lengths or shapes) is deprecated. If you meant to do this, you must specify 'dtype=object' when creating the ndarray.\n",
      "  return asarray(a).ndim\n",
      "C:\\Users\\kvo019\\Anaconda3\\envs\\ARP\\lib\\site-packages\\numpy\\core\\fromnumeric.py:1970: VisibleDeprecationWarning: Creating an ndarray from ragged nested sequences (which is a list-or-tuple of lists-or-tuples-or ndarrays with different lengths or shapes) is deprecated. If you meant to do this, you must specify 'dtype=object' when creating the ndarray.\n",
      "  result = asarray(a).shape\n"
     ]
    },
    {
     "data": {
      "image/png": "[encoded data removed]",
      "text/plain": [
       "<Figure size 244.8x165.6 with 2 Axes>"
      ]
     },
     "metadata": {
      "needs_background": "light"
     },
     "output_type": "display_data"
    }
   ],
   "source": [
    "f,ax=plt.subplots(figsize=(3.4,2.3), ncols=2, sharey=True, gridspec_kw={\"left\": 0.3})\n",
    "tp.barscatter([[remove_nans(Cond_NR_F_Malt[\"licks\"]), remove_nans(Cond_NR_F_Cas[\"licks\"])], [Cond_PR_F_Malt[\"licks\"], Cond_PR_F_Cas[\"licks\"]]], \n",
    "              paired = True,\n",
    "              unequal = True,\n",
    "              grouplabel= [\"NR\", \"PR\"],\n",
    "              xfontsize = 12,\n",
    "              barfacecolor=[colors_NR1, colors_NR2, colors_PR1, colors_PR2],\n",
    "              barfacecoloroption=\"individual\",\n",
    "              scattersize=scattersize,\n",
    "              scatteralpha=0.6,\n",
    "              scatterlinecolor= colors_lines,\n",
    "              linewidth=0.75,\n",
    "              ax=ax[0])\n",
    "\n",
    "tp.barscatter([[remove_nans(Cond_NR_M_Malt[\"licks\"]), remove_nans(Cond_NR_M_Cas[\"licks\"])], [Cond_PR_M_Malt[\"licks\"], Cond_PR_M_Cas[\"licks\"]]], \n",
    "              paired = True,\n",
    "              unequal = True,\n",
    "              grouplabel= [\"NR\", \"PR\"],\n",
    "              xfontsize = 12,\n",
    "              barfacecolor=[colors_NR1, colors_NR2, colors_PR1, colors_PR2],\n",
    "              barfacecoloroption=\"individual\",\n",
    "              scattersize=scattersize,\n",
    "              scatteralpha=0.6,\n",
    "              scatterlinecolor= colors_lines,\n",
    "              linewidth=0.75,\n",
    "              ax=ax[1])\n",
    "\n",
    "\n",
    "ax[0].set_ylabel(\"# licks\", fontsize = 12)\n",
    "ax[0].tick_params(axis='y', labelsize=12)\n",
    "\n",
    "#ax[0].set_title(\"Female Mice\")\n",
    "#ax[1].set_title(\"Male Mice\")\n",
    "#f.suptitle(\"Conditioning Total Licks\", fontsize = 20)\n",
    "\n",
    "f.savefig(\"..//output//conditioning_licks.pdf\")"
   ]
  },
  {
   "cell_type": "code",
   "execution_count": 18,
   "metadata": {
    "scrolled": true
   },
   "outputs": [
    {
     "name": "stderr",
     "output_type": "stream",
     "text": [
      "C:\\Users\\kvo019\\Anaconda3\\envs\\ARP\\lib\\site-packages\\numpy\\core\\fromnumeric.py:3440: RuntimeWarning: Mean of empty slice.\n",
      "  return _methods._mean(a, axis=axis, dtype=dtype,\n",
      "C:\\Users\\kvo019\\Anaconda3\\envs\\ARP\\lib\\site-packages\\numpy\\core\\_methods.py:189: RuntimeWarning: invalid value encountered in double_scalars\n",
      "  ret = ret.dtype.type(ret / rcount)\n",
      "C:\\Users\\kvo019\\Anaconda3\\envs\\ARP\\lib\\site-packages\\trompy\\lick_utils.py:249: RuntimeWarning: invalid value encountered in power\n",
      "  return (np.exp(-(alpha*x)**beta))\n"
     ]
    },
    {
     "name": "stdout",
     "output_type": "stream",
     "text": [
      "Could not calculate burst probability\n",
      "Optimal fit parameters not found\n",
      "Could not calculate burst probability\n",
      "Could not calculate burst probability\n",
      "Could not calculate burst probability\n",
      "Could not calculate burst probability\n",
      "Could not calculate burst probability\n",
      "Could not calculate burst probability\n",
      "Could not calculate burst probability\n"
     ]
    },
    {
     "name": "stderr",
     "output_type": "stream",
     "text": [
      "C:\\Users\\kvo019\\Anaconda3\\envs\\ARP\\lib\\site-packages\\scipy\\optimize\\_minpack_py.py:833: OptimizeWarning: Covariance of the parameters could not be estimated\n",
      "  warnings.warn('Covariance of the parameters could not be estimated',\n"
     ]
    },
    {
     "name": "stdout",
     "output_type": "stream",
     "text": [
      "Could not calculate burst probability\n",
      "Optimal fit parameters not found\n",
      "Could not calculate burst probability\n",
      "Could not calculate burst probability\n",
      "Could not calculate burst probability\n"
     ]
    },
    {
     "name": "stderr",
     "output_type": "stream",
     "text": [
      "C:\\Users\\kvo019\\Anaconda3\\envs\\ARP\\lib\\site-packages\\numpy\\core\\fromnumeric.py:1970: VisibleDeprecationWarning: Creating an ndarray from ragged nested sequences (which is a list-or-tuple of lists-or-tuples-or ndarrays with different lengths or shapes) is deprecated. If you meant to do this, you must specify 'dtype=object' when creating the ndarray.\n",
      "  result = asarray(a).shape\n"
     ]
    },
    {
     "name": "stdout",
     "output_type": "stream",
     "text": [
      "Could not calculate burst probability\n",
      "Optimal fit parameters not found\n"
     ]
    }
   ],
   "source": [
    "Pref_NR_M_Malt= get_lick_data(rows, NR_male, phase=\"preference\")\n",
    "Pref_NR_F_Malt = get_lick_data(rows, NR_female, phase=\"preference\")\n",
    "\n",
    "Pref_NR_M_Cas = get_lick_data(rows, NR_male, solution=\"casein\", phase=\"preference\")\n",
    "Pref_NR_F_Cas = get_lick_data(rows, NR_female, solution=\"casein\", phase=\"preference\")\n",
    "\n",
    "Pref_PR_M_Malt = get_lick_data(rows, PR_male, phase=\"preference\")\n",
    "Pref_PR_F_Malt= get_lick_data(rows, PR_female, phase=\"preference\")\n",
    "\n",
    "Pref_PR_M_Cas = get_lick_data(rows, PR_male, solution=\"casein\", phase=\"preference\")\n",
    "Pref_PR_F_Cas = get_lick_data(rows, PR_female, solution=\"casein\", phase=\"preference\")"
   ]
  },
  {
   "cell_type": "code",
   "execution_count": 19,
   "metadata": {},
   "outputs": [
    {
     "name": "stdout",
     "output_type": "stream",
     "text": [
      "Cannot convert that number of dimensions or data is in wrong format. Attmepting to make graph assuming equal groups.\n",
      "Cannot convert that number of dimensions or data is in wrong format. Attmepting to make graph assuming equal groups.\n"
     ]
    },
    {
     "data": {
      "image/png": "[encoded data removed]",
      "text/plain": [
       "<Figure size 244.8x165.6 with 2 Axes>"
      ]
     },
     "metadata": {
      "needs_background": "light"
     },
     "output_type": "display_data"
    }
   ],
   "source": [
    "f,ax=plt.subplots(figsize=(3.4,2.3), ncols=2, sharey=True, gridspec_kw={\"left\": 0.3})\n",
    "tp.barscatter([[Pref_NR_F_Malt[\"licks\"], Pref_NR_F_Cas[\"licks\"]], [Pref_PR_F_Malt[\"licks\"], Pref_PR_F_Cas[\"licks\"]]], \n",
    "              paired = True,\n",
    "              unequal = True,\n",
    "              grouplabel= [\"NR\", \"PR\"],\n",
    "              xfontsize = 12,\n",
    "              barfacecolor=[colors_NR1, colors_NR2, colors_PR1, colors_PR2],\n",
    "              barfacecoloroption=\"individual\",\n",
    "              scattersize=scattersize,\n",
    "              scatteralpha=0.6,\n",
    "              scatterlinecolor= colors_lines,\n",
    "              linewidth=0.75,\n",
    "              ax=ax[0])\n",
    "\n",
    "tp.barscatter([[remove_nans(Pref_NR_M_Malt[\"licks\"]), remove_nans(Pref_NR_M_Cas[\"licks\"])], [remove_nans(Pref_PR_M_Malt[\"licks\"]), remove_nans(Pref_PR_M_Cas[\"licks\"])]], \n",
    "              paired = True,\n",
    "              unequal = True,\n",
    "              grouplabel= [\"NR\", \"PR\"],\n",
    "              xfontsize = 12,\n",
    "              barfacecolor=[colors_NR1, colors_NR2, colors_PR1, colors_PR2],\n",
    "              barfacecoloroption=\"individual\",\n",
    "              scattersize=scattersize,\n",
    "              scatteralpha=0.6,\n",
    "              scatterlinecolor= colors_lines,\n",
    "              linewidth=0.75,\n",
    "              ax=ax[1])\n",
    "\n",
    "\n",
    "ax[0].set_ylabel(\"# licks\", fontsize = 12)\n",
    "ax[0].tick_params(axis='y', labelsize=12)\n",
    "\n",
    "#ax[0].set_title(\"Female Mice\")\n",
    "#ax[1].set_title(\"Male Mice\")\n",
    "#f.suptitle(\"Preference Test # Licks\", fontsize = 20)\n",
    "\n",
    "f.savefig(\"..//output//preference_licks.pdf\")"
   ]
  },
  {
   "cell_type": "code",
   "execution_count": 20,
   "metadata": {},
   "outputs": [],
   "source": [
    "PR_male_malt_cumulative = []\n",
    "PR_male_casein_cumulative = []\n",
    "\n",
    "NR_male_malt_cumulative = []\n",
    "NR_male_casein_cumulative = []\n",
    "\n",
    "PR_female_malt_cumulative = []\n",
    "PR_female_casein_cumulative = []\n",
    "\n",
    "NR_female_malt_cumulative = []\n",
    "NR_female_casein_cumulative = []\n"
   ]
  },
  {
   "cell_type": "code",
   "execution_count": 21,
   "metadata": {
    "scrolled": true
   },
   "outputs": [
    {
     "name": "stderr",
     "output_type": "stream",
     "text": [
      "C:\\Users\\kvo019\\Anaconda3\\envs\\ARP\\lib\\site-packages\\trompy\\lick_utils.py:249: RuntimeWarning: invalid value encountered in power\n",
      "  return (np.exp(-(alpha*x)**beta))\n",
      "C:\\Users\\kvo019\\Anaconda3\\envs\\ARP\\lib\\site-packages\\scipy\\optimize\\_minpack_py.py:833: OptimizeWarning: Covariance of the parameters could not be estimated\n",
      "  warnings.warn('Covariance of the parameters could not be estimated',\n",
      "C:\\Users\\kvo019\\Anaconda3\\envs\\ARP\\lib\\site-packages\\numpy\\core\\fromnumeric.py:1970: VisibleDeprecationWarning: Creating an ndarray from ragged nested sequences (which is a list-or-tuple of lists-or-tuples-or ndarrays with different lengths or shapes) is deprecated. If you meant to do this, you must specify 'dtype=object' when creating the ndarray.\n",
      "  result = asarray(a).shape\n"
     ]
    },
    {
     "name": "stdout",
     "output_type": "stream",
     "text": [
      "Could not calculate burst probability\n",
      "Optimal fit parameters not found\n",
      "Could not calculate burst probability\n",
      "Optimal fit parameters not found\n",
      "Could not calculate burst probability\n",
      "Could not calculate burst probability\n",
      "Could not calculate burst probability\n"
     ]
    }
   ],
   "source": [
    "bins=range(0,3601,300)\n",
    "for mouse in PR_male: \n",
    "    temp_licks = []\n",
    "    temp_total = []\n",
    "    temp_histodata = []\n",
    "    temp_cumulative_licks = [] \n",
    "    for row in rows:\n",
    "        if (row[1] == mouse) and (row[12] == \"preference\"):\n",
    "            if row [6] == \"malt\":\n",
    "                [onset, offset]=tp.medfilereader(datafolder+row[0], varsToExtract=[\"b\", \"c\"],  remove_var_header=True)\n",
    "                lickdata = tp.lickCalc(onset, offset=offset, minburstlength=3, burstThreshold=1)\n",
    "                temp_total.append(lickdata[\"total\"])\n",
    "                temp_licks.append(lickdata[\"licks\"],)\n",
    "\n",
    "            elif row [7] == \"malt\":\n",
    "                [onset, offset]=tp.medfilereader(datafolder+row[0], varsToExtract=[\"e\", \"f\"],  remove_var_header=True)\n",
    "                lickdata = tp.lickCalc(onset, offset=offset, minburstlength=3, burstThreshold=1)\n",
    "                temp_total.append(lickdata[\"total\"])\n",
    "                temp_licks.append(lickdata[\"licks\"],)\n",
    "\n",
    "            temp_histodata = np.histogram(temp_licks, bins=bins)\n",
    "            temp_cumulative_licks = np.concatenate([np.zeros(1), np.cumsum(temp_histodata[0])])\n",
    "\n",
    "    \n",
    "            PR_male_malt_cumulative.append(temp_cumulative_licks)\n",
    "        \n",
    "for mouse in PR_male: \n",
    "    temp_licks = []\n",
    "    temp_total = []\n",
    "    temp_histodata = []\n",
    "    temp_cumulative_licks = [] \n",
    "    for row in rows:\n",
    "        if (row[1] == mouse) and (row[12] == \"preference\"):\n",
    "            if row [6] == \"casein\":\n",
    "                [onset, offset]=tp.medfilereader(datafolder+row[0], varsToExtract=[\"b\", \"c\"],  remove_var_header=True)\n",
    "                lickdata = tp.lickCalc(onset, offset=offset, minburstlength=3, burstThreshold=1)\n",
    "                temp_total.append(lickdata[\"total\"])\n",
    "                temp_licks.append(lickdata[\"licks\"],)\n",
    "\n",
    "            elif row [7] == \"casein\":\n",
    "                [onset, offset]=tp.medfilereader(datafolder+row[0], varsToExtract=[\"e\", \"f\"],  remove_var_header=True)\n",
    "                lickdata = tp.lickCalc(onset, offset=offset, minburstlength=3, burstThreshold=1)\n",
    "                temp_total.append(lickdata[\"total\"])\n",
    "                temp_licks.append(lickdata[\"licks\"],)\n",
    "\n",
    "            temp_histodata = np.histogram(temp_licks, bins=bins)\n",
    "            temp_cumulative_licks = np.concatenate([np.zeros(1), np.cumsum(temp_histodata[0])])\n",
    "\n",
    "    \n",
    "            PR_male_casein_cumulative.append(temp_cumulative_licks) \n",
    "        \n",
    "for mouse in NR_male: \n",
    "    temp_licks = []\n",
    "    temp_total = []\n",
    "    temp_histodata = []\n",
    "    temp_cumulative_licks = [] \n",
    "    for row in rows:\n",
    "        if (row[1] == mouse) and (row[12] == \"preference\"):\n",
    "            if row [6] == \"malt\":\n",
    "                [onset, offset]=tp.medfilereader(datafolder+row[0], varsToExtract=[\"b\", \"c\"],  remove_var_header=True)\n",
    "                lickdata = tp.lickCalc(onset, offset=offset, minburstlength=3, burstThreshold=1)\n",
    "                temp_total.append(lickdata[\"total\"])\n",
    "                temp_licks.append(lickdata[\"licks\"],)\n",
    "\n",
    "            elif row [7] == \"malt\":\n",
    "                [onset, offset]=tp.medfilereader(datafolder+row[0], varsToExtract=[\"e\", \"f\"],  remove_var_header=True)\n",
    "                lickdata = tp.lickCalc(onset, offset=offset, minburstlength=3, burstThreshold=1)\n",
    "                temp_total.append(lickdata[\"total\"])\n",
    "                temp_licks.append(lickdata[\"licks\"],)\n",
    "\n",
    "            temp_histodata = np.histogram(temp_licks, bins=bins)\n",
    "            temp_cumulative_licks = np.concatenate([np.zeros(1), np.cumsum(temp_histodata[0])])\n",
    "\n",
    "    \n",
    "            NR_male_malt_cumulative.append(temp_cumulative_licks)\n",
    "        \n",
    "for mouse in NR_male: \n",
    "    temp_licks = []\n",
    "    temp_total = []\n",
    "    temp_histodata = []\n",
    "    temp_cumulative_licks = [] \n",
    "    for row in rows:\n",
    "        if (row[1] == mouse) and (row[12] == \"preference\"):\n",
    "            if row [6] == \"casein\":\n",
    "                [onset, offset]=tp.medfilereader(datafolder+row[0], varsToExtract=[\"b\", \"c\"],  remove_var_header=True)\n",
    "                lickdata = tp.lickCalc(onset, offset=offset, minburstlength=3, burstThreshold=1)\n",
    "                temp_total.append(lickdata[\"total\"])\n",
    "                temp_licks.append(lickdata[\"licks\"],)\n",
    "\n",
    "            elif row [7] == \"casein\":\n",
    "                [onset, offset]=tp.medfilereader(datafolder+row[0], varsToExtract=[\"e\", \"f\"],  remove_var_header=True)\n",
    "                lickdata = tp.lickCalc(onset, offset=offset, minburstlength=3, burstThreshold=1)\n",
    "                temp_total.append(lickdata[\"total\"])\n",
    "                temp_licks.append(lickdata[\"licks\"],)\n",
    "\n",
    "            temp_histodata = np.histogram(temp_licks, bins=bins)\n",
    "            temp_cumulative_licks = np.concatenate([np.zeros(1), np.cumsum(temp_histodata[0])])\n",
    "\n",
    "    \n",
    "            NR_male_casein_cumulative.append(temp_cumulative_licks) "
   ]
  },
  {
   "cell_type": "code",
   "execution_count": 22,
   "metadata": {},
   "outputs": [
    {
     "name": "stdout",
     "output_type": "stream",
     "text": [
      "Could not calculate burst probability\n",
      "Could not calculate burst probability\n",
      "Could not calculate burst probability\n",
      "Could not calculate burst probability\n",
      "Optimal fit parameters not found\n",
      "Could not calculate burst probability\n",
      "Could not calculate burst probability\n",
      "Could not calculate burst probability\n",
      "Could not calculate burst probability\n"
     ]
    }
   ],
   "source": [
    "bins=range(0,3601,300)\n",
    "for mouse in PR_female: \n",
    "    temp_licks = []\n",
    "    temp_total = []\n",
    "    temp_histodata = []\n",
    "    temp_cumulative_licks = [] \n",
    "    for row in rows:\n",
    "        if (row[1] == mouse) and (row[12] == \"preference\"):\n",
    "            if row [6] == \"malt\":\n",
    "                [onset, offset]=tp.medfilereader(datafolder+row[0], varsToExtract=[\"b\", \"c\"],  remove_var_header=True)\n",
    "                lickdata = tp.lickCalc(onset, offset=offset, minburstlength=3, burstThreshold=1)\n",
    "                temp_total.append(lickdata[\"total\"])\n",
    "                temp_licks.append(lickdata[\"licks\"],)\n",
    "\n",
    "            elif row [7] == \"malt\":\n",
    "                [onset, offset]=tp.medfilereader(datafolder+row[0], varsToExtract=[\"e\", \"f\"],  remove_var_header=True)\n",
    "                lickdata = tp.lickCalc(onset, offset=offset, minburstlength=3, burstThreshold=1)\n",
    "                temp_total.append(lickdata[\"total\"])\n",
    "                temp_licks.append(lickdata[\"licks\"],)\n",
    "\n",
    "            temp_histodata = np.histogram(temp_licks, bins=bins)\n",
    "            temp_cumulative_licks = np.concatenate([np.zeros(1), np.cumsum(temp_histodata[0])])\n",
    "\n",
    "    \n",
    "            PR_female_malt_cumulative.append(temp_cumulative_licks)\n",
    "        \n",
    "for mouse in PR_female: \n",
    "    temp_licks = []\n",
    "    temp_total = []\n",
    "    temp_histodata = []\n",
    "    temp_cumulative_licks = [] \n",
    "    for row in rows:\n",
    "        if (row[1] == mouse) and (row[12] == \"preference\"):\n",
    "            if row [6] == \"casein\":\n",
    "                [onset, offset]=tp.medfilereader(datafolder+row[0], varsToExtract=[\"b\", \"c\"],  remove_var_header=True)\n",
    "                lickdata = tp.lickCalc(onset, offset=offset, minburstlength=3, burstThreshold=1)\n",
    "                temp_total.append(lickdata[\"total\"])\n",
    "                temp_licks.append(lickdata[\"licks\"],)\n",
    "\n",
    "            elif row [7] == \"casein\":\n",
    "                [onset, offset]=tp.medfilereader(datafolder+row[0], varsToExtract=[\"e\", \"f\"],  remove_var_header=True)\n",
    "                lickdata = tp.lickCalc(onset, offset=offset, minburstlength=3, burstThreshold=1)\n",
    "                temp_total.append(lickdata[\"total\"])\n",
    "                temp_licks.append(lickdata[\"licks\"],)\n",
    "\n",
    "            temp_histodata = np.histogram(temp_licks, bins=bins)\n",
    "            temp_cumulative_licks = np.concatenate([np.zeros(1), np.cumsum(temp_histodata[0])])\n",
    "\n",
    "            PR_female_casein_cumulative.append(temp_cumulative_licks) \n",
    "        \n",
    "for mouse in NR_female: \n",
    "    temp_licks = []\n",
    "    temp_total = []\n",
    "    temp_histodata = []\n",
    "    temp_cumulative_licks = [] \n",
    "    for row in rows:\n",
    "        if (row[1] == mouse) and (row[12] == \"preference\"):\n",
    "            if row [6] == \"malt\":\n",
    "                [onset, offset]=tp.medfilereader(datafolder+row[0], varsToExtract=[\"b\", \"c\"],  remove_var_header=True)\n",
    "                lickdata = tp.lickCalc(onset, offset=offset, minburstlength=3, burstThreshold=1)\n",
    "                temp_total.append(lickdata[\"total\"])\n",
    "                temp_licks.append(lickdata[\"licks\"],)\n",
    "\n",
    "            elif row [7] == \"malt\":\n",
    "                [onset, offset]=tp.medfilereader(datafolder+row[0], varsToExtract=[\"e\", \"f\"],  remove_var_header=True)\n",
    "                lickdata = tp.lickCalc(onset, offset=offset, minburstlength=3, burstThreshold=1)\n",
    "                temp_total.append(lickdata[\"total\"])\n",
    "                temp_licks.append(lickdata[\"licks\"],)\n",
    "\n",
    "            temp_histodata = np.histogram(temp_licks, bins=bins)\n",
    "            temp_cumulative_licks = np.concatenate([np.zeros(1), np.cumsum(temp_histodata[0])])\n",
    "\n",
    "    \n",
    "            NR_female_malt_cumulative.append(temp_cumulative_licks)\n",
    "        \n",
    "for mouse in NR_female: \n",
    "    temp_licks = []\n",
    "    temp_total = []\n",
    "    temp_histodata = []\n",
    "    temp_cumulative_licks = [] \n",
    "    for row in rows:\n",
    "        if (row[1] == mouse) and (row[12] == \"preference\"):\n",
    "            if row [6] == \"casein\":\n",
    "                [onset, offset]=tp.medfilereader(datafolder+row[0], varsToExtract=[\"b\", \"c\"],  remove_var_header=True)\n",
    "                lickdata = tp.lickCalc(onset, offset=offset, minburstlength=3, burstThreshold=1)\n",
    "                temp_total.append(lickdata[\"total\"])\n",
    "                temp_licks.append(lickdata[\"licks\"],)\n",
    "\n",
    "            elif row [7] == \"casein\":\n",
    "                [onset, offset]=tp.medfilereader(datafolder+row[0], varsToExtract=[\"e\", \"f\"],  remove_var_header=True)\n",
    "                lickdata = tp.lickCalc(onset, offset=offset, minburstlength=3, burstThreshold=1)\n",
    "                temp_total.append(lickdata[\"total\"])\n",
    "                temp_licks.append(lickdata[\"licks\"],)\n",
    "\n",
    "            temp_histodata = np.histogram(temp_licks, bins=bins)\n",
    "            temp_cumulative_licks = np.concatenate([np.zeros(1), np.cumsum(temp_histodata[0])])\n",
    "\n",
    "    \n",
    "            NR_female_casein_cumulative.append(temp_cumulative_licks) "
   ]
  },
  {
   "cell_type": "code",
   "execution_count": 23,
   "metadata": {
    "scrolled": true
   },
   "outputs": [
    {
     "data": {
      "image/png": "[encoded data removed]",
      "text/plain": [
       "<Figure size 432x180 with 4 Axes>"
      ]
     },
     "metadata": {
      "needs_background": "light"
     },
     "output_type": "display_data"
    }
   ],
   "source": [
    "f,ax=plt.subplots(figsize=(6,2.5), ncols=4, sharey=True, gridspec_kw={\"left\": 0.3, \"bottom\": 0.2})\n",
    "\n",
    "tp.shadedError(ax[0], NR_female_malt_cumulative, linestyle=\"--\", linecolor=colors_NR3, errorcolor=colors_NR1)\n",
    "tp.shadedError(ax[0], NR_female_casein_cumulative, linecolor=colors_NR3, errorcolor=colors_NR1)\n",
    "\n",
    "tp.shadedError(ax[1], PR_female_malt_cumulative, linestyle=\"--\", linecolor=colors_PR3, errorcolor=colors_PR1)\n",
    "tp.shadedError(ax[1], PR_female_casein_cumulative, linecolor=colors_PR3, errorcolor=colors_PR1)\n",
    "\n",
    "tp.shadedError(ax[2], NR_male_malt_cumulative, linestyle=\"--\", linecolor=colors_NR3, errorcolor=colors_NR1)\n",
    "tp.shadedError(ax[2], NR_male_casein_cumulative, linecolor=colors_NR3, errorcolor=colors_NR1)\n",
    "\n",
    "tp.shadedError(ax[3], PR_male_malt_cumulative,linestyle=\"--\", linecolor=colors_PR3, errorcolor=colors_PR1)\n",
    "tp.shadedError(ax[3], PR_male_casein_cumulative, linecolor=colors_PR3, errorcolor=colors_PR1)\n",
    "\n",
    "\n",
    "\n",
    "ax[0].set_xticks([0,6, 12])\n",
    "ax[0].set_xticklabels([\"0\", \"30\", \"60\"])\n",
    "ax[1].set_xticks([0,6, 12])\n",
    "ax[1].set_xticklabels([\"0\", \"30\", \"60\"])\n",
    "ax[2].set_xticks([0,6, 12])\n",
    "ax[2].set_xticklabels([\"0\", \"30\", \"60\"])\n",
    "ax[3].set_xticks([0,6, 12])\n",
    "ax[3].set_xticklabels([\"0\", \"30\", \"60\"])\n",
    "\n",
    "ax[0].spines['right'].set_visible(False)\n",
    "ax[0].spines['top'].set_visible(False)\n",
    "ax[1].spines['right'].set_visible(False)\n",
    "ax[1].spines['top'].set_visible(False)\n",
    "ax[2].spines['right'].set_visible(False)\n",
    "ax[2].spines['top'].set_visible(False)\n",
    "ax[3].spines['right'].set_visible(False)\n",
    "ax[3].spines['top'].set_visible(False)\n",
    "\n",
    "ax[0].set_ylabel(\"cumulative licks\")\n",
    "ax[0].set_xlabel(\"time (min)\")\n",
    "ax[1].set_xlabel(\"time (min)\")\n",
    "ax[2].set_xlabel(\"time (min)\")\n",
    "ax[3].set_xlabel(\"time (min)\")\n",
    "\n",
    "f.savefig(\"..//output//pref_cumulative.pdf\")"
   ]
  },
  {
   "cell_type": "code",
   "execution_count": 24,
   "metadata": {},
   "outputs": [
    {
     "name": "stdout",
     "output_type": "stream",
     "text": [
      "Cannot convert that number of dimensions or data is in wrong format. Attmepting to make graph assuming equal groups.\n",
      "Cannot convert that number of dimensions or data is in wrong format. Attmepting to make graph assuming equal groups.\n"
     ]
    },
    {
     "data": {
      "image/png": "[encoded data removed]",
      "text/plain": [
       "<Figure size 244.8x165.6 with 2 Axes>"
      ]
     },
     "metadata": {
      "needs_background": "light"
     },
     "output_type": "display_data"
    }
   ],
   "source": [
    "f,ax=plt.subplots(figsize=(3.4,2.3), ncols=2, sharey=True, gridspec_kw={\"left\": 0.3})\n",
    "tp.barscatter([[Pref_NR_F_Malt[\"burst number\"], Pref_NR_F_Cas[\"burst number\"]], [Pref_PR_F_Malt[\"burst number\"], Pref_PR_F_Cas[\"burst number\"]]], \n",
    "              paired = True,\n",
    "              unequal = True,\n",
    "              grouplabel= [\"NR\", \"PR\"],\n",
    "              xfontsize = 12,\n",
    "              barfacecolor=[colors_NR1, colors_NR2, colors_PR1, colors_PR2],\n",
    "              barfacecoloroption=\"individual\",\n",
    "              scattersize=scattersize,\n",
    "              scatteralpha=0.6,\n",
    "              scatterlinecolor= colors_lines,\n",
    "              linewidth=0.75,\n",
    "              ax=ax[0])\n",
    "\n",
    "tp.barscatter([[remove_nans(Pref_NR_M_Malt[\"burst number\"]), remove_nans(Pref_NR_M_Cas[\"burst number\"])], [remove_nans(Pref_PR_M_Malt[\"burst number\"]), remove_nans(Pref_PR_M_Cas[\"burst number\"])]], \n",
    "              paired = True,\n",
    "              unequal = True,\n",
    "              grouplabel= [\"NR\", \"PR\"],\n",
    "              xfontsize = 12,\n",
    "              barfacecolor=[colors_NR1, colors_NR2, colors_PR1, colors_PR2],\n",
    "              barfacecoloroption=\"individual\",\n",
    "              scattersize=scattersize,\n",
    "              scatteralpha=0.6,\n",
    "              scatterlinecolor= colors_lines,\n",
    "              linewidth=0.75,\n",
    "              ax=ax[1])\n",
    "\n",
    "\n",
    "ax[0].set_ylabel(\"# bursts\", fontsize = 12)\n",
    "ax[0].tick_params(axis='y', labelsize=12)\n",
    "\n",
    "#ax[0].set_title(\"Female Mice\")\n",
    "#ax[1].set_title(\"Male Mice\")\n",
    "#f.suptitle(\"Preference Test Burst Number\", fontsize = 20)\n",
    "\n",
    "f.savefig(\"..//output//preference_BN.pdf\")"
   ]
  },
  {
   "cell_type": "code",
   "execution_count": 25,
   "metadata": {},
   "outputs": [
    {
     "name": "stdout",
     "output_type": "stream",
     "text": [
      "Cannot convert that number of dimensions or data is in wrong format. Attmepting to make graph assuming equal groups.\n",
      "Cannot convert that number of dimensions or data is in wrong format. Attmepting to make graph assuming equal groups.\n"
     ]
    },
    {
     "data": {
      "image/png": "[encoded data removed]",
      "text/plain": [
       "<Figure size 244.8x165.6 with 2 Axes>"
      ]
     },
     "metadata": {
      "needs_background": "light"
     },
     "output_type": "display_data"
    }
   ],
   "source": [
    "\n",
    "f,ax=plt.subplots(figsize=(3.4,2.3), ncols=2, sharey=True, gridspec_kw={\"left\": 0.3})\n",
    "tp.barscatter([[Pref_NR_F_Malt[\"burst size\"], Pref_NR_F_Cas[\"burst size\"]], [Pref_PR_F_Malt[\"burst size\"], Pref_PR_F_Cas[\"burst size\"]]], \n",
    "              paired = True,\n",
    "              unequal = True,\n",
    "              grouplabel= [\"NR\", \"PR\"],\n",
    "              xfontsize = 12,\n",
    "              barfacecolor=[colors_NR1, colors_NR2, colors_PR1, colors_PR2],\n",
    "              barfacecoloroption=\"individual\",\n",
    "              scattersize=scattersize,\n",
    "              scatteralpha=0.6,\n",
    "              scatterlinecolor= colors_lines,\n",
    "              linewidth=0.75,\n",
    "              ax=ax[0])\n",
    "\n",
    "tp.barscatter([[remove_nans(Pref_NR_M_Malt[\"burst size\"]), remove_nans(Pref_NR_M_Cas[\"burst size\"])], [remove_nans(Pref_PR_M_Malt[\"burst size\"]), remove_nans(Pref_PR_M_Cas[\"burst size\"])]], \n",
    "              paired = True,\n",
    "              unequal = True,\n",
    "              grouplabel= [\"NR\", \"PR\"],\n",
    "              xfontsize = 12,\n",
    "              barfacecolor=[colors_NR1, colors_NR2, colors_PR1, colors_PR2],\n",
    "              barfacecoloroption=\"individual\",\n",
    "              scattersize=scattersize,\n",
    "              scatteralpha=0.6,\n",
    "              scatterlinecolor= colors_lines,\n",
    "              linewidth=0.75,\n",
    "              ax=ax[1])\n",
    "\n",
    "\n",
    "ax[0].set_ylabel(\"mean licks / burst\", fontsize = 12)\n",
    "ax[0].tick_params(axis='y', labelsize=12)\n",
    "\n",
    "#ax[0].set_title(\"Female Mice\")\n",
    "#ax[1].set_title(\"Male Mice\")\n",
    "#f.suptitle(\"Preference Test Burst Size\", fontsize = 20)\n",
    "\n",
    "f.savefig(\"..//output//preference_BS.pdf\")\n"
   ]
  },
  {
   "cell_type": "code",
   "execution_count": 26,
   "metadata": {
    "scrolled": true
   },
   "outputs": [],
   "source": [
    "total_licks_NR_Male = []\n",
    "total_licks_NR_Female = []\n",
    "total_licks_PR_Male = []\n",
    "total_licks_PR_Female = []\n",
    "\n",
    "for malt_licks, cas_licks in zip(Pref_NR_M_Malt[\"licks\"], Pref_NR_M_Cas[\"licks\"]):\n",
    "    total_licks_NR_Male.append(malt_licks + cas_licks)\n",
    "    \n",
    "for malt_licks, cas_licks in zip(Pref_NR_F_Malt[\"licks\"], Pref_NR_F_Cas[\"licks\"]):\n",
    "    total_licks_NR_Female.append(malt_licks + cas_licks)\n",
    "    \n",
    "for malt_licks, cas_licks in zip(Pref_PR_M_Malt[\"licks\"], Pref_PR_M_Cas[\"licks\"]):\n",
    "    total_licks_PR_Male.append(malt_licks + cas_licks)\n",
    "    \n",
    "for malt_licks, cas_licks in zip(Pref_PR_F_Malt[\"licks\"], Pref_PR_F_Cas[\"licks\"]):\n",
    "    total_licks_PR_Female.append(malt_licks + cas_licks)\n",
    "    \n",
    "    \n",
    "PP_NR_Male = [cas/total for cas, total in zip(Pref_NR_M_Cas[\"licks\"], total_licks_NR_Male)]\n",
    "PP_NR_Female = [cas/total for cas, total in zip(Pref_NR_F_Cas[\"licks\"], total_licks_NR_Female)]\n",
    "PP_PR_Male = [cas/total for cas, total in zip(Pref_PR_M_Cas[\"licks\"], total_licks_PR_Male)]\n",
    "PP_PR_Female = [cas/total for cas, total in zip(Pref_PR_F_Cas[\"licks\"], total_licks_PR_Female)]"
   ]
  },
  {
   "cell_type": "code",
   "execution_count": 27,
   "metadata": {},
   "outputs": [
    {
     "data": {
      "image/png": "[encoded data removed]",
      "text/plain": [
       "<Figure size 165.6x165.6 with 2 Axes>"
      ]
     },
     "metadata": {
      "needs_background": "light"
     },
     "output_type": "display_data"
    }
   ],
   "source": [
    "f,ax=plt.subplots(figsize=(2.3,2.3), ncols=2, sharey=True, gridspec_kw={\"left\": 0.35})\n",
    "tp.barscatter([PP_NR_Female, PP_PR_Female], \n",
    "              grouplabel= [\"NR\", \"PR\"],\n",
    "              xfontsize = 12,\n",
    "              barfacecolor=[colors_NR2, colors_PR2],\n",
    "              barfacecoloroption=\"individual\",\n",
    "              scatteralpha=0.6,\n",
    "              scattersize=scattersize,\n",
    "              linewidth=0.75,\n",
    "              ax=ax[0])\n",
    "\n",
    "tp.barscatter([remove_nans(PP_NR_Male), remove_nans(PP_PR_Male)], \n",
    "              grouplabel= [\"NR\", \"PR\"],\n",
    "              xfontsize = 12,\n",
    "              barfacecolor=[colors_NR2, colors_PR2],\n",
    "              barfacecoloroption=\"individual\",\n",
    "              scattersize=scattersize,\n",
    "              scatteralpha=0.6,\n",
    "              linewidth=0.75,\n",
    "              ax=ax[1])\n",
    "\n",
    "\n",
    "ax[0].set_ylabel(\"protein preference (%)\", fontsize = 12)\n",
    "ax[0].tick_params(axis='y', labelsize=12)\n",
    "\n",
    "ax[0].set_yticks([0, 0.5, 1])\n",
    "ax[0].set_yticklabels([\"0\", \"50\", \"100\"])\n",
    "\n",
    "#ax[0].set_title(\"Female Mice\")\n",
    "#ax[1].set_title(\"Male Mice\")\n",
    "#f.suptitle(\"Preference Test Protein Preference\", fontsize = 20)\n",
    "\n",
    "f.savefig(\"..//output//protein_preference.pdf\")"
   ]
  },
  {
   "cell_type": "code",
   "execution_count": 28,
   "metadata": {},
   "outputs": [],
   "source": [
    "# FGF21 levels\n",
    "\n",
    "df4_NR = df4[df4['Diet'] == \"NR\"]\n",
    "df4_PR = df4[df4['Diet'] == \"PR\"]\n",
    "\n",
    "df4_NR_M = df4_NR[df4_NR ['Cycle_Stage'] == \"male\"]\n",
    "df4_NR_F_D = df4_NR[df4_NR ['Cycle_Stage'] == \"D\"]\n",
    "df4_NR_F_P = df4_NR[df4_NR ['Cycle_Stage'] == \"P\"]\n",
    "\n",
    "df4_PR_M = df4_PR[df4_PR ['Cycle_Stage'] == \"male\"]\n",
    "df4_PR_F_D = df4_PR[df4_PR ['Cycle_Stage'] == \"D\"]\n",
    "df4_PR_F_P = df4_PR[df4_PR ['Cycle_Stage'] == \"P\"]\n",
    "\n",
    "# FGF21\n",
    "\n",
    "NR_Male_FGF21 = df4_NR_M['FGF21'].to_list()\n",
    "NR_Female_D_FGF21 = df4_NR_F_D['FGF21'].to_list()\n",
    "NR_Female_P_FGF21 = df4_NR_F_P['FGF21'].to_list()\n",
    "\n",
    "PR_Male_FGF21 = df4_PR_M['FGF21'].to_list()\n",
    "PR_Female_D_FGF21 = df4_PR_F_D['FGF21'].to_list()\n",
    "PR_Female_P_FGF21 = df4_PR_F_P['FGF21'].to_list()\n",
    "\n",
    "# Protein Preference\n",
    "\n",
    "NR_Male_FGF21_PP = df4_NR_M['Protein_Preference'].to_list()\n",
    "NR_Female_D_FGF21_PP  = df4_NR_F_D['Protein_Preference'].to_list()\n",
    "NR_Female_P_FGF21_PP  = df4_NR_F_P['Protein_Preference'].to_list()\n",
    "\n",
    "PR_Male_FGF21_PP  = df4_PR_M['Protein_Preference'].to_list()\n",
    "PR_Female_D_FGF21_PP  = df4_PR_F_D['Protein_Preference'].to_list()\n",
    "PR_Female_P_FGF21_PP  = df4_PR_F_P['Protein_Preference'].to_list()"
   ]
  },
  {
   "cell_type": "code",
   "execution_count": 37,
   "metadata": {
    "scrolled": true
   },
   "outputs": [
    {
     "data": {
      "image/png": "[encoded data removed]",
      "text/plain": [
       "<Figure size 144x360 with 2 Axes>"
      ]
     },
     "metadata": {
      "needs_background": "light"
     },
     "output_type": "display_data"
    }
   ],
   "source": [
    "#Plot for FGF21\n",
    "\n",
    "f,ax=plt.subplots(figsize=(2,5), nrows=2, gridspec_kw={\"left\": 0.4, \"hspace\":0.6})\n",
    "tp.barscatter([NR_Male_FGF21, NR_Female_D_FGF21, NR_Female_P_FGF21], \n",
    "              grouplabel= [\"m.\", \"di.\", \"pro.\"],\n",
    "              xfontsize = 12,\n",
    "              barfacecolor=[colors_NR1, colors_NR2, colors_NR3],\n",
    "              barfacecoloroption=\"individual\",\n",
    "              scattersize=scattersize,\n",
    "              scatteralpha=0.6,\n",
    "              linewidth=0.75,\n",
    "              ax=ax[0])\n",
    "\n",
    "tp.barscatter([PR_Male_FGF21, PR_Female_D_FGF21, PR_Female_P_FGF21],\n",
    "              grouplabel= [\"m.\", \"di.\", \"pro.\"],\n",
    "              xfontsize = 12,\n",
    "              barfacecolor=[colors_PR1, colors_PR2, colors_PR3],\n",
    "              barfacecoloroption=\"individual\",\n",
    "              scattersize=scattersize,\n",
    "              scatteralpha=0.6,\n",
    "              linewidth=0.75,\n",
    "              ax=ax[1])\n",
    "\n",
    "\n",
    "ax[0].set_ylabel(\"FGF21 (ng/ml)\", fontsize = 12)\n",
    "ax[0].tick_params(axis='y', labelsize=12)\n",
    "\n",
    "ax[1].set_ylabel(\"FGF21 (ng/ml)\", fontsize = 12, labelpad= 14\n",
    "                \n",
    "                )\n",
    "ax[1].tick_params(axis='y', labelsize=12)\n",
    "\n",
    "#ax[0].set_title(\"NR\")\n",
    "#ax[1].set_title(\"PR\")\n",
    "\n",
    "#f.suptitle(\"Plasma FGF21\", fontsize = 20)\n",
    "\n",
    "f.savefig(\"..//output//FGF21.pdf\")"
   ]
  },
  {
   "cell_type": "code",
   "execution_count": 30,
   "metadata": {},
   "outputs": [
    {
     "data": {
      "image/png": "[encoded data removed]",
      "text/plain": [
       "<Figure size 216x360 with 2 Axes>"
      ]
     },
     "metadata": {
      "needs_background": "light"
     },
     "output_type": "display_data"
    }
   ],
   "source": [
    "f,ax=plt.subplots(figsize=(3,5), nrows=2, gridspec_kw={\"left\": 0.3, \"hspace\":0.6})\n",
    "\n",
    "ax[0].scatter(NR_Male_FGF21, NR_Male_FGF21_PP, color = \"white\", marker= \"s\", edgecolors=\"black\", s=100, alpha=0.6)\n",
    "ax[0].scatter(NR_Female_D_FGF21, NR_Female_D_FGF21_PP, marker= \"v\", color = colors_NR1, edgecolors=\"black\", s=100, alpha=0.6)\n",
    "ax[0].scatter(NR_Female_P_FGF21, NR_Female_P_FGF21_PP, color = colors_NR3, edgecolors=\"black\", s=100, alpha=0.6)\n",
    "\n",
    "ax[1].scatter(PR_Male_FGF21, PR_Male_FGF21_PP, color = \"white\", marker= \"s\", edgecolors=\"black\", s=100, alpha=0.6)\n",
    "ax[1].scatter(PR_Female_D_FGF21, PR_Female_D_FGF21_PP,marker= \"v\", color = colors_PR1, edgecolors=\"black\", s=100, alpha=0.6)\n",
    "ax[1].scatter(PR_Female_P_FGF21, PR_Female_P_FGF21_PP, color = colors_PR3, edgecolors=\"black\", s=100, alpha=0.6)\n",
    "\n",
    "ax[0].set_ylabel(\"protein preference\", fontsize = 12)\n",
    "ax[0].tick_params(axis='y', labelsize=12)\n",
    "\n",
    "ax[1].set_ylabel(\"protein preference\", fontsize = 12)\n",
    "ax[1].tick_params(axis='y', labelsize=12)\n",
    "\n",
    "\n",
    "ax[0].set_xlabel(\"FGF21 (ng/ml)\", fontsize = 12)\n",
    "ax[0].tick_params(axis='x', labelsize=12)\n",
    "\n",
    "ax[1].set_xlabel(\"FGF21 (ng/ml)\", fontsize = 12)\n",
    "ax[1].tick_params(axis='x', labelsize=12)\n",
    "\n",
    "ax[0].spines['right'].set_visible(False)\n",
    "ax[0].spines['top'].set_visible(False)\n",
    "ax[1].spines['right'].set_visible(False)\n",
    "ax[1].spines['top'].set_visible(False)\n",
    "\n",
    "ax[0].set_ylim(0,1)\n",
    "\n",
    "ax[0].set_yticks([0, 0.5, 1])\n",
    "ax[0].set_yticklabels([\"0\", \"50\", \"100\"])\n",
    "\n",
    "ax[1].set_yticks([0, 0.5, 1])\n",
    "ax[1].set_yticklabels([\"0\", \"50\", \"100\"])\n",
    "\n",
    "f.savefig(\"..//output//FGF21_PP_correlation.pdf\", dpi=800)"
   ]
  },
  {
   "cell_type": "code",
   "execution_count": 40,
   "metadata": {},
   "outputs": [
    {
     "data": {
      "text/plain": [
       "[Text(0, 0.0, '0'), Text(0, 0.5, '50'), Text(0, 1.0, '100')]"
      ]
     },
     "execution_count": 40,
     "metadata": {},
     "output_type": "execute_result"
    },
    {
     "data": {
      "image/png": "[encoded data removed]",
      "text/plain": [
       "<Figure size 216x360 with 1 Axes>"
      ]
     },
     "metadata": {
      "needs_background": "light"
     },
     "output_type": "display_data"
    }
   ],
   "source": [
    "f,ax=plt.subplots(figsize=(3,5), gridspec_kw={\"left\": 0.3, \"hspace\":0.6})\n",
    "\n",
    "ax.scatter(PR_Male_FGF21, PR_Male_FGF21_PP, color = \"white\", marker= \"s\", edgecolors=\"black\", s=100, alpha=0.6)\n",
    "ax.scatter(PR_Female_D_FGF21, PR_Female_D_FGF21_PP,marker= \"v\", color = colors_PR1, edgecolors=\"black\", s=100, alpha=0.6)\n",
    "ax.scatter(PR_Female_P_FGF21, PR_Female_P_FGF21_PP, color = colors_PR3, edgecolors=\"black\", s=100, alpha=0.6)\n",
    "\n",
    "ax.set_ylabel(\"protein preference\", fontsize = 12)\n",
    "ax.tick_params(axis='y', labelsize=12)\n",
    "\n",
    "ax.set_xlabel(\"FGF21 (ng/ml)\", fontsize = 12)\n",
    "ax.tick_params(axis='x', labelsize=12)\n",
    "\n",
    "ax.spines['right'].set_visible(False)\n",
    "ax.spines['top'].set_visible(False)\n",
    "\n",
    "ax.set_yticks([0, 0.5, 1])\n",
    "ax.set_yticklabels([\"0\", \"50\", \"100\"])"
   ]
  },
  {
   "cell_type": "code",
   "execution_count": 31,
   "metadata": {
    "scrolled": true
   },
   "outputs": [
    {
     "name": "stderr",
     "output_type": "stream",
     "text": [
      "C:\\Users\\kvo019\\Anaconda3\\envs\\ARP\\lib\\site-packages\\trompy\\lick_utils.py:249: RuntimeWarning: invalid value encountered in power\n",
      "  return (np.exp(-(alpha*x)**beta))\n",
      "C:\\Users\\kvo019\\Anaconda3\\envs\\ARP\\lib\\site-packages\\scipy\\optimize\\_minpack_py.py:833: OptimizeWarning: Covariance of the parameters could not be estimated\n",
      "  warnings.warn('Covariance of the parameters could not be estimated',\n",
      "C:\\Users\\kvo019\\Anaconda3\\envs\\ARP\\lib\\site-packages\\numpy\\core\\fromnumeric.py:1970: VisibleDeprecationWarning: Creating an ndarray from ragged nested sequences (which is a list-or-tuple of lists-or-tuples-or ndarrays with different lengths or shapes) is deprecated. If you meant to do this, you must specify 'dtype=object' when creating the ndarray.\n",
      "  result = asarray(a).shape\n"
     ]
    },
    {
     "name": "stdout",
     "output_type": "stream",
     "text": [
      "Could not calculate burst probability\n",
      "Could not calculate burst probability\n",
      "Could not calculate burst probability\n",
      "Could not calculate burst probability\n",
      "Could not calculate burst probability\n",
      "Could not calculate burst probability\n",
      "Could not calculate burst probability\n",
      "Could not calculate burst probability\n",
      "Optimal fit parameters not found\n"
     ]
    }
   ],
   "source": [
    "NR_P = []\n",
    "NR_D = []\n",
    "PR_P = []\n",
    "PR_D = []\n",
    "\n",
    "for row in rows:\n",
    "        if row[3] == \"NR\" and row[5]==\"P\":\n",
    "            if row[1] not in NR_P:\n",
    "                NR_P.append(row[1])\n",
    "for row in rows:\n",
    "        if row[3] == \"NR\" and row[5]==\"D\":\n",
    "            if row[1] not in NR_D:\n",
    "                NR_D.append(row[1])\n",
    "for row in rows:\n",
    "        if row[3] == \"PR\" and row[5]==\"P\":\n",
    "            if row[1] not in PR_P:\n",
    "                PR_P.append(row[1])\n",
    "for row in rows:\n",
    "        if row[3] == \"PR\" and row[5]==\"D\":\n",
    "            if row[1] not in PR_D:\n",
    "                PR_D.append(row[1])\n",
    "                \n",
    "Pref_NR_Malt_P= get_lick_data(rows, NR_P, phase=\"preference\")\n",
    "Pref_NR_Malt_D= get_lick_data(rows, NR_D, phase=\"preference\")\n",
    "Pref_PR_Malt_P= get_lick_data(rows, PR_P, phase=\"preference\")\n",
    "Pref_PR_Malt_D= get_lick_data(rows, PR_D, phase=\"preference\")\n",
    "\n",
    "Pref_NR_Cas_P= get_lick_data(rows, NR_P, solution=\"casein\", phase=\"preference\")\n",
    "Pref_NR_Cas_D= get_lick_data(rows, NR_D, solution=\"casein\", phase=\"preference\")\n",
    "Pref_PR_Cas_P= get_lick_data(rows, PR_P, solution=\"casein\", phase=\"preference\")\n",
    "Pref_PR_Cas_D= get_lick_data(rows, PR_D, solution=\"casein\", phase=\"preference\")"
   ]
  },
  {
   "cell_type": "code",
   "execution_count": 38,
   "metadata": {},
   "outputs": [
    {
     "data": {
      "image/png": "[encoded data removed]",
      "text/plain": [
       "<Figure size 648x144 with 3 Axes>"
      ]
     },
     "metadata": {
      "needs_background": "light"
     },
     "output_type": "display_data"
    }
   ],
   "source": [
    "f,ax=plt.subplots(figsize=(9,2), ncols=3, gridspec_kw={\"left\": 0.2, \"wspace\":0.7})\n",
    "\n",
    "\n",
    "tp.barscatter([[Pref_NR_Malt_D[\"licks\"],Pref_NR_Cas_D[\"licks\"]], \n",
    "               [Pref_NR_Malt_P[\"licks\"],Pref_NR_Cas_P[\"licks\"]],\n",
    "               [Pref_PR_Malt_D[\"licks\"],Pref_PR_Cas_D[\"licks\"]], \n",
    "               [Pref_PR_Malt_P[\"licks\"],Pref_PR_Cas_P[\"licks\"]]], \n",
    "              grouplabel= [\"di.\", \"pro.\", \"di.\", \"pro.\"],\n",
    "              paired = True,\n",
    "              xfontsize = 12,\n",
    "              barfacecolor=[colors_NR1, colors_NR2, colors_NR1, colors_NR2, colors_PR1, colors_PR2, colors_PR1, colors_PR2],\n",
    "              barfacecoloroption=\"individual\",\n",
    "              scattersize=scattersize,\n",
    "              scatteralpha=0.6,\n",
    "              scatterlinecolor= colors_lines,\n",
    "              linewidth=0.75,\n",
    "              ax=ax[0])\n",
    "\n",
    "\n",
    "tp.barscatter([[Pref_NR_Malt_D[\"burst number\"],Pref_NR_Cas_D[\"burst number\"]], \n",
    "               [Pref_NR_Malt_P[\"burst number\"],Pref_NR_Cas_P[\"burst number\"]],\n",
    "               [Pref_PR_Malt_D[\"burst number\"],Pref_PR_Cas_D[\"burst number\"]], \n",
    "               [Pref_PR_Malt_P[\"burst number\"],Pref_PR_Cas_P[\"burst number\"]]], \n",
    "              grouplabel= [\"di.\", \"pro.\", \"di.\", \"pro.\"],\n",
    "              paired = True,\n",
    "              xfontsize = 12,\n",
    "              barfacecolor=[colors_NR1, colors_NR2, colors_NR1, colors_NR2, colors_PR1, colors_PR2, colors_PR1, colors_PR2],\n",
    "              barfacecoloroption=\"individual\",\n",
    "              scattersize=scattersize,\n",
    "              scatteralpha=0.6,\n",
    "              scatterlinecolor= colors_lines,\n",
    "              linewidth=0.75,\n",
    "              ax=ax[1])\n",
    "\n",
    "tp.barscatter([[Pref_NR_Malt_D[\"burst size\"],Pref_NR_Cas_D[\"burst size\"]], \n",
    "               [Pref_NR_Malt_P[\"burst size\"],Pref_NR_Cas_P[\"burst size\"]],\n",
    "               [Pref_PR_Malt_D[\"burst size\"],Pref_PR_Cas_D[\"burst size\"]], \n",
    "               [Pref_PR_Malt_P[\"burst size\"],Pref_PR_Cas_P[\"burst size\"]]],\n",
    "              grouplabel= [\"di.\", \"pro.\", \"di.\", \"pro.\"],\n",
    "              paired = True,\n",
    "              xfontsize = 12,\n",
    "              barfacecolor=[colors_NR1, colors_NR2, colors_NR1, colors_NR2, colors_PR1, colors_PR2, colors_PR1, colors_PR2],\n",
    "              barfacecoloroption=\"individual\",\n",
    "              scattersize=scattersize,\n",
    "              scatteralpha=0.6,\n",
    "              scatterlinecolor= colors_lines,\n",
    "              linewidth=0.75,\n",
    "              ax=ax[2])\n",
    "\n",
    "\n",
    "ax[0].set_ylabel(\"# licks\", fontsize = 12)\n",
    "ax[1].set_ylabel(\"# bursts\", fontsize = 12)\n",
    "ax[2].set_ylabel(\"mean licks / burst\", fontsize = 12)\n",
    "ax[0].tick_params(axis='y', labelsize=12)\n",
    "\n",
    "#ax[0].set_title(\"# licks\")\n",
    "#ax[1].set_title(\"Burst Number\")\n",
    "#ax[2].set_title(\"Burst Size\")\n",
    "#f.suptitle(\"Preference Test Microstructure by Cycle\", fontsize = 20)\n",
    "\n",
    "f.savefig(\"..//output//pref_cycle.pdf\")"
   ]
  },
  {
   "cell_type": "code",
   "execution_count": null,
   "metadata": {},
   "outputs": [],
   "source": []
  },
  {
   "cell_type": "code",
   "execution_count": null,
   "metadata": {},
   "outputs": [],
   "source": []
  },
  {
   "cell_type": "code",
   "execution_count": null,
   "metadata": {},
   "outputs": [],
   "source": []
  }
 ],
 "metadata": {
  "kernelspec": {
   "display_name": "Python 3 (ipykernel)",
   "language": "python",
   "name": "python3"
  },
  "language_info": {
   "codemirror_mode": {
    "name": "ipython",
    "version": 3
   },
   "file_extension": ".py",
   "mimetype": "text/x-python",
   "name": "python",
   "nbconvert_exporter": "python",
   "pygments_lexer": "ipython3",
   "version": "3.9.7"
  }
 },
 "nbformat": 4,
 "nbformat_minor": 4
}
