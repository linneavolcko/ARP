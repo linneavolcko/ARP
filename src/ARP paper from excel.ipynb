{
 "cells": [
  {
   "cell_type": "code",
   "execution_count": 13,
   "metadata": {},
   "outputs": [],
   "source": [
    "import trompy as tp\n",
    "import numpy as np\n",
    "import matplotlib.pyplot as plt\n",
    "import pandas as pd\n",
    "%matplotlib inline"
   ]
  },
  {
   "cell_type": "code",
   "execution_count": 15,
   "metadata": {},
   "outputs": [],
   "source": [
    "excel_file = pd.ExcelFile(\"C:\\\\Data\\\\data_for_ARP_figures_2.xls\")\n"
   ]
  },
  {
   "cell_type": "code",
   "execution_count": 16,
   "metadata": {},
   "outputs": [],
   "source": [
    "df1 = pd.read_excel(excel_file, \"food_intake\")\n",
    "df2 = pd.read_excel(excel_file, \"BW\")\n",
    "df3 = pd.read_excel(excel_file, \"female_cycle\")\n",
    "df4 = pd.read_excel(excel_file, \"FGF21\")"
   ]
  },
  {
   "cell_type": "code",
   "execution_count": 17,
   "metadata": {},
   "outputs": [],
   "source": [
    "#Average food intake in the 9 days before homecage conditioning began\n",
    "df_NR = df1[df1['Diet'] == \"NR\"]\n",
    "df_PR = df1[df1['Diet'] == \"PR\"]\n",
    "\n",
    "df_NR_M = df_NR[df_NR ['Sex'] == \"male\"]\n",
    "df_NR_F = df_NR[df_NR ['Sex'] == \"female\"]\n",
    "\n",
    "df_PR_M = df_PR[df_PR ['Sex'] == \"male\"]\n",
    "df_PR_F = df_PR[df_PR ['Sex'] == \"female\"]\n",
    "\n",
    "PR_F_avg_food = df_PR_F['Average'].to_list()\n",
    "PR_M_avg_food = df_PR_M['Average'].to_list()\n",
    "NR_F_avg_food = df_NR_F['Average'].to_list()\n",
    "NR_M_avg_food = df_NR_M['Average'].to_list()"
   ]
  },
  {
   "cell_type": "code",
   "execution_count": 18,
   "metadata": {},
   "outputs": [
    {
     "data": {
      "text/plain": [
       "(<AxesSubplot:>,\n",
       " [1, 2],\n",
       " [<BarContainer object of 1 artists>, <BarContainer object of 1 artists>],\n",
       " [<matplotlib.collections.PathCollection at 0x229b9af7b80>,\n",
       "  <matplotlib.collections.PathCollection at 0x229b9b04550>,\n",
       "  <matplotlib.collections.PathCollection at 0x229b9b04940>,\n",
       "  <matplotlib.collections.PathCollection at 0x229b9b04d30>,\n",
       "  <matplotlib.collections.PathCollection at 0x229b9b04fd0>,\n",
       "  <matplotlib.collections.PathCollection at 0x229b9b143a0>,\n",
       "  <matplotlib.collections.PathCollection at 0x229b9b14790>,\n",
       "  <matplotlib.collections.PathCollection at 0x229b9b14b80>,\n",
       "  <matplotlib.collections.PathCollection at 0x229b9b14fd0>,\n",
       "  <matplotlib.collections.PathCollection at 0x229b9b1e3a0>,\n",
       "  <matplotlib.collections.PathCollection at 0x229b9b1e790>,\n",
       "  <matplotlib.collections.PathCollection at 0x229b9b14bb0>,\n",
       "  <matplotlib.collections.PathCollection at 0x229b9b1e040>,\n",
       "  <matplotlib.collections.PathCollection at 0x229b9b2d040>,\n",
       "  <matplotlib.collections.PathCollection at 0x229b9b2d430>,\n",
       "  <matplotlib.collections.PathCollection at 0x229b9b2d820>])"
      ]
     },
     "execution_count": 18,
     "metadata": {},
     "output_type": "execute_result"
    },
    {
     "data": {
      "image/png": "[encoded data removed]",
      "text/plain": [
       "<Figure size 432x288 with 1 Axes>"
      ]
     },
     "metadata": {
      "needs_background": "light"
     },
     "output_type": "display_data"
    },
    {
     "data": {
      "image/png": "[encoded data removed]",
      "text/plain": [
       "<Figure size 432x288 with 1 Axes>"
      ]
     },
     "metadata": {
      "needs_background": "light"
     },
     "output_type": "display_data"
    }
   ],
   "source": [
    "#Plot of average food intake\n",
    "tp.barscatter([NR_F_avg_food, PR_F_avg_food])\n",
    "tp.barscatter([NR_M_avg_food, PR_M_avg_food])"
   ]
  },
  {
   "cell_type": "code",
   "execution_count": 19,
   "metadata": {},
   "outputs": [],
   "source": [
    "#BW\n",
    "\n",
    "df2_NR = df2[df2['Diet'] == \"NR\"]\n",
    "df2_PR = df2[df2['Diet'] == \"PR\"]\n",
    "\n",
    "df2_NR_M = df2_NR[df2_NR ['Sex'] == \"male\"]\n",
    "df2_NR_F = df2_NR[df2_NR ['Sex'] == \"female\"]\n",
    "\n",
    "df2_PR_M = df2_PR[df2_PR ['Sex'] == \"male\"]\n",
    "df2_PR_F = df2_PR[df2_PR ['Sex'] == \"female\"]\n",
    "\n",
    "#BW at start of diet\n",
    "\n",
    "PR_F_BW_start = df2_PR_F['BW at diet start'].to_list()\n",
    "PR_M_BW_start = df2_PR_M['BW at diet start'].to_list()\n",
    "NR_F_BW_start = df2_NR_F['BW at diet start'].to_list()\n",
    "NR_M_BW_start = df2_NR_M['BW at diet start'].to_list()\n",
    "\n",
    "#BW on preference test day\n",
    "\n",
    "PR_F_BW_PrefTest = df2_PR_F['BW at Pref Test'].to_list()\n",
    "PR_M_BW_PrefTest = df2_PR_M['BW at Pref Test'].to_list()\n",
    "NR_F_BW_PrefTest = df2_NR_F['BW at Pref Test'].to_list()\n",
    "NR_M_BW_PrefTest = df2_NR_M['BW at Pref Test'].to_list()\n",
    "\n",
    "#BW change from start to pref test day\n",
    "\n",
    "PR_F_BW_change = df2_PR_F['percent change from diet start'].to_list()\n",
    "PR_M_BW_change = df2_PR_M['percent change from diet start'].to_list()\n",
    "NR_F_BW_change = df2_NR_F['percent change from diet start'].to_list()\n",
    "NR_M_BW_change = df2_NR_M['percent change from diet start'].to_list()\n"
   ]
  },
  {
   "cell_type": "code",
   "execution_count": 20,
   "metadata": {},
   "outputs": [],
   "source": [
    "# Female cycle\n",
    "\n",
    "df3_NR = df3[df3['Diet'] == \"NR\"]\n",
    "df3_PR = df3[df3['Diet'] == \"PR\"]\n",
    "\n",
    "# BW change \n",
    "\n",
    "NR_BW_Diestrus = df3_NR['Change_BW_Diestrus'].to_list()\n",
    "NR_BW_Estrus = df3_NR['Change_BW_Estrus'].to_list()\n",
    "NR_BW_Pro = df3_NR['Change_BW_Pro'].to_list()\n",
    "\n",
    "PR_BW_Diestrus = df3_NR['Change_BW_Diestrus'].to_list()\n",
    "PR_BW_Estrus = df3_NR['Change_BW_Estrus'].to_list()\n",
    "PR_BW_Pro = df3_NR['Change_BW_Pro'].to_list()\n",
    "\n",
    "# food intake change\n",
    "\n",
    "NR_food_Diestrus = df3_NR['Change_Food_Diestrus'].to_list()\n",
    "NR_food_Estrus = df3_NR['Change_BW_Estrus'].to_list()\n",
    "NR_food_Pro = df3_NR['Change_BW_Pro'].to_list()\n",
    "\n",
    "PR_food_Diestrus = df3_NR['Change_BW_Diestrus'].to_list()\n",
    "PR_food_Estrus = df3_NR['Change_BW_Estrus'].to_list()\n",
    "PR_food_Pro = df3_NR['Change_BW_Pro'].to_list()"
   ]
  },
  {
   "cell_type": "code",
   "execution_count": 21,
   "metadata": {},
   "outputs": [],
   "source": [
    "# FGF21 levels\n",
    "\n",
    "df4_NR = df4[df4['Diet'] == \"NR\"]\n",
    "df4_PR = df4[df4['Diet'] == \"PR\"]\n",
    "\n",
    "df4_NR_M = df4_NR[df4_NR ['Cycle_Stage'] == \"NA\"]\n",
    "df4_NR_F_D = df4_NR[df4_NR ['Cycle_Stage'] == \"D\"]\n",
    "df4_NR_F_P = df4_NR[df4_NR ['Cycle_Stage'] == \"P\"]\n",
    "\n",
    "df4_PR_M = df4_PR[df4_PR ['Cycle_Stage'] == \"NA\"]\n",
    "df4_PR_F_D = df4_PR[df4_PR ['Cycle_Stage'] == \"D\"]\n",
    "df4_PR_F_P = df4_PR[df4_PR ['Cycle_Stage'] == \"P\"]\n",
    "\n",
    "# FGF21\n",
    "\n",
    "NR_Male_FGF21 = df4_NR_M['FGF21'].to_list()\n",
    "NR_Female_D_FGF21 = df4_NR_F_D['FGF21'].to_list()\n",
    "NR_Female_P_FGF21 = df4_NR_F_P['FGF21'].to_list()\n",
    "\n",
    "PR_Male_FGF21 = df4_PR_M['FGF21'].to_list()\n",
    "PR_Female_D_FGF21 = df4_PR_F_D['FGF21'].to_list()\n",
    "PR_Female_P_FGF21 = df4_PR_F_P['FGF21'].to_list()\n",
    "\n",
    "# Protein Preference\n",
    "\n",
    "NR_Male_FGF21_PP = df4_NR_M['Protein_Preference'].to_list()\n",
    "NR_Female_D_FGF21_PP  = df4_NR_F_D['Protein_Preference'].to_list()\n",
    "NR_Female_P_FGF21_PP  = df4_NR_F_P['Protein_Preference'].to_list()\n",
    "\n",
    "PR_Male_FGF21_PP  = df4_PR_M['Protein_Preference'].to_list()\n",
    "PR_Female_D_FGF21_PP  = df4_PR_F_D['Protein_Preference'].to_list()\n",
    "PR_Female_P_FGF21_PP  = df4_PR_F_P['Protein_Preference'].to_list()"
   ]
  },
  {
   "cell_type": "code",
   "execution_count": null,
   "metadata": {},
   "outputs": [],
   "source": []
  },
  {
   "cell_type": "code",
   "execution_count": null,
   "metadata": {},
   "outputs": [],
   "source": []
  },
  {
   "cell_type": "code",
   "execution_count": null,
   "metadata": {},
   "outputs": [],
   "source": []
  }
 ],
 "metadata": {
  "kernelspec": {
   "display_name": "Python 3",
   "language": "python",
   "name": "python3"
  },
  "language_info": {
   "codemirror_mode": {
    "name": "ipython",
    "version": 3
   },
   "file_extension": ".py",
   "mimetype": "text/x-python",
   "name": "python",
   "nbconvert_exporter": "python",
   "pygments_lexer": "ipython3",
   "version": "3.8.5"
  }
 },
 "nbformat": 4,
 "nbformat_minor": 5
}
